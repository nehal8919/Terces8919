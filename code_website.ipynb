{
  "nbformat": 4,
  "nbformat_minor": 0,
  "metadata": {
    "colab": {
      "provenance": [],
      "authorship_tag": "ABX9TyNlKIup4+CH1rRLfmA4YaZX",
      "include_colab_link": true
    },
    "kernelspec": {
      "name": "python3",
      "display_name": "Python 3"
    },
    "language_info": {
      "name": "python"
    }
  },
  "cells": [
    {
      "cell_type": "markdown",
      "metadata": {
        "id": "view-in-github",
        "colab_type": "text"
      },
      "source": [
        "<a href=\"https://colab.research.google.com/github/nehal8919/Terces8919/blob/main/code_website.ipynb\" target=\"_parent\"><img src=\"https://colab.research.google.com/assets/colab-badge.svg\" alt=\"Open In Colab\"/></a>"
      ]
    },
    {
      "cell_type": "code",
      "execution_count": 1,
      "metadata": {
        "colab": {
          "resources": {
            "http://localhost:8080/style.css": {
              "data": "",
              "ok": false,
              "headers": [
                [
                  "content-length",
                  "0"
                ]
              ],
              "status": 404,
              "status_text": ""
            }
          },
          "base_uri": "https://localhost:8080/",
          "height": 289
        },
        "id": "VH4Wyo8mUt0O",
        "outputId": "68ce944b-7ba7-4b3b-e476-26e63b68e6ab"
      },
      "outputs": [
        {
          "output_type": "display_data",
          "data": {
            "text/plain": [
              "<IPython.core.display.HTML object>"
            ],
            "text/html": [
              "\n",
              "<!DOCTYPE html>\n",
              "<html lang=\"en\">\n",
              "<head>\n",
              "  <meta charset=\"UTF-8\" />\n",
              "  <meta name=\"viewport\" content=\"width=device-width, initial-scale=1.0\" />\n",
              "  <title>Restaurant Website</title>\n",
              "  <link rel=\"stylesheet\" href=\"style.css\" />\n",
              "  <style>\n",
              "    body {\n",
              "      font-family: Arial, sans-serif;\n",
              "      margin: 0;\n",
              "      padding: 0;\n",
              "      background: #fefefe;\n",
              "    }\n",
              "    header {\n",
              "      background: #333;\n",
              "      padding: 10px 0;\n",
              "    }\n",
              "    nav ul {\n",
              "      list-style: none;\n",
              "      display: flex;\n",
              "      justify-content: center;\n",
              "      margin: 0;\n",
              "      padding: 0;\n",
              "    }\n",
              "    nav ul li {\n",
              "      margin: 0 15px;\n",
              "    }\n",
              "    nav ul li a {\n",
              "      text-decoration: none;\n",
              "      color: #fff;\n",
              "      font-weight: bold;\n",
              "      transition: color 0.3s;\n",
              "    }\n",
              "    nav ul li a:hover {\n",
              "      color: #ff9900;\n",
              "    }\n",
              "    .hero {\n",
              "      background: url('https://source.unsplash.com/1600x600/?restaurant,food') no-repeat center center/cover;\n",
              "      color: white;\n",
              "      text-align: center;\n",
              "      padding: 100px 20px;\n",
              "    }\n",
              "    .hero h1 {\n",
              "      font-size: 3em;\n",
              "      margin: 0;\n",
              "    }\n",
              "  </style>\n",
              "</head>\n",
              "<body>\n",
              "  <header>\n",
              "    <nav>\n",
              "      <ul>\n",
              "        <li><a href=\"index.html\">Home</a></li>\n",
              "        <li><a href=\"menu.html\">Menu</a></li>\n",
              "        <li><a href=\"offers.html\">Offers</a></li>\n",
              "        <li><a href=\"new.html\">New Arrivals</a></li>\n",
              "        <li><a href=\"contact.html\">Contact</a></li>\n",
              "      </ul>\n",
              "    </nav>\n",
              "  </header>\n",
              "  <main>\n",
              "    <section class=\"hero\">\n",
              "      <h1>Welcome to Our Restaurant</h1>\n",
              "    </section>\n",
              "  </main>\n",
              "  <script>\n",
              "    // Example JS for future interactivity\n",
              "    document.addEventListener('DOMContentLoaded', () => {\n",
              "      console.log(\"Restaurant Website Loaded\");\n",
              "    });\n",
              "  </script>\n",
              "</body>\n",
              "</html>\n"
            ]
          },
          "metadata": {}
        }
      ],
      "source": [
        "from IPython.display import HTML\n",
        "\n",
        "html_code = \"\"\"\n",
        "<!DOCTYPE html>\n",
        "<html lang=\"en\">\n",
        "<head>\n",
        "  <meta charset=\"UTF-8\" />\n",
        "  <meta name=\"viewport\" content=\"width=device-width, initial-scale=1.0\" />\n",
        "  <title>Restaurant Website</title>\n",
        "  <link rel=\"stylesheet\" href=\"style.css\" />\n",
        "  <style>\n",
        "    body {\n",
        "      font-family: Arial, sans-serif;\n",
        "      margin: 0;\n",
        "      padding: 0;\n",
        "      background: #fefefe;\n",
        "    }\n",
        "    header {\n",
        "      background: #333;\n",
        "      padding: 10px 0;\n",
        "    }\n",
        "    nav ul {\n",
        "      list-style: none;\n",
        "      display: flex;\n",
        "      justify-content: center;\n",
        "      margin: 0;\n",
        "      padding: 0;\n",
        "    }\n",
        "    nav ul li {\n",
        "      margin: 0 15px;\n",
        "    }\n",
        "    nav ul li a {\n",
        "      text-decoration: none;\n",
        "      color: #fff;\n",
        "      font-weight: bold;\n",
        "      transition: color 0.3s;\n",
        "    }\n",
        "    nav ul li a:hover {\n",
        "      color: #ff9900;\n",
        "    }\n",
        "    .hero {\n",
        "      background: url('https://source.unsplash.com/1600x600/?restaurant,food') no-repeat center center/cover;\n",
        "      color: white;\n",
        "      text-align: center;\n",
        "      padding: 100px 20px;\n",
        "    }\n",
        "    .hero h1 {\n",
        "      font-size: 3em;\n",
        "      margin: 0;\n",
        "    }\n",
        "  </style>\n",
        "</head>\n",
        "<body>\n",
        "  <header>\n",
        "    <nav>\n",
        "      <ul>\n",
        "        <li><a href=\"index.html\">Home</a></li>\n",
        "        <li><a href=\"menu.html\">Menu</a></li>\n",
        "        <li><a href=\"offers.html\">Offers</a></li>\n",
        "        <li><a href=\"new.html\">New Arrivals</a></li>\n",
        "        <li><a href=\"contact.html\">Contact</a></li>\n",
        "      </ul>\n",
        "    </nav>\n",
        "  </header>\n",
        "  <main>\n",
        "    <section class=\"hero\">\n",
        "      <h1>Welcome to Our Restaurant</h1>\n",
        "    </section>\n",
        "  </main>\n",
        "  <script>\n",
        "    // Example JS for future interactivity\n",
        "    document.addEventListener('DOMContentLoaded', () => {\n",
        "      console.log(\"Restaurant Website Loaded\");\n",
        "    });\n",
        "  </script>\n",
        "</body>\n",
        "</html>\n",
        "\"\"\"\n",
        "\n",
        "display(HTML(html_code))"
      ]
    }
  ]
}