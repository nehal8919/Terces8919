{
  "nbformat": 4,
  "nbformat_minor": 0,
  "metadata": {
    "colab": {
      "provenance": [],
      "authorship_tag": "ABX9TyO78NalGEa/kxTPmpPqjBPg",
      "include_colab_link": true
    },
    "kernelspec": {
      "name": "python3",
      "display_name": "Python 3"
    },
    "language_info": {
      "name": "python"
    }
  },
  "cells": [
    {
      "cell_type": "markdown",
      "metadata": {
        "id": "view-in-github",
        "colab_type": "text"
      },
      "source": [
        "<a href=\"https://colab.research.google.com/github/nehal8919/Terces8919/blob/main/p%26g.ipynb\" target=\"_parent\"><img src=\"https://colab.research.google.com/assets/colab-badge.svg\" alt=\"Open In Colab\"/></a>"
      ]
    },
    {
      "cell_type": "code",
      "execution_count": 1,
      "metadata": {
        "colab": {
          "base_uri": "https://localhost:8080/",
          "height": 106
        },
        "id": "N03v8I_MKoTr",
        "outputId": "0af5dc7e-773b-46d7-fe3f-f169abb775d6"
      },
      "outputs": [
        {
          "output_type": "error",
          "ename": "SyntaxError",
          "evalue": "invalid decimal literal (<ipython-input-1-e64bdd738760>, line 17)",
          "traceback": [
            "\u001b[0;36m  File \u001b[0;32m\"<ipython-input-1-e64bdd738760>\"\u001b[0;36m, line \u001b[0;32m17\u001b[0m\n\u001b[0;31m    padding: 10px 0;\u001b[0m\n\u001b[0m              ^\u001b[0m\n\u001b[0;31mSyntaxError\u001b[0m\u001b[0;31m:\u001b[0m invalid decimal literal\n"
          ]
        }
      ],
      "source": [
        "<!DOCTYPE html>\n",
        "<html lang=\"en\">\n",
        "<head>\n",
        "  <meta charset=\"UTF-8\" />\n",
        "  <meta name=\"viewport\" content=\"width=device-width, initial-scale=1.0\" />\n",
        "  <title>Restaurant Website</title>\n",
        "  <link rel=\"stylesheet\" href=\"style.css\" />\n",
        "  <style>\n",
        "    body {\n",
        "      font-family: Arial, sans-serif;\n",
        "      margin: 0;\n",
        "      padding: 0;\n",
        "      background: #fefefe;\n",
        "    }\n",
        "    header {\n",
        "      background: #333;\n",
        "      padding: 10px 0;\n",
        "    }\n",
        "    nav ul {\n",
        "      list-style: none;\n",
        "      display: flex;\n",
        "      justify-content: center;\n",
        "      margin: 0;\n",
        "      padding: 0;\n",
        "    }\n",
        "    nav ul li {\n",
        "      margin: 0 15px;\n",
        "    }\n",
        "    nav ul li a {\n",
        "      text-decoration: none;\n",
        "      color: #fff;\n",
        "      font-weight: bold;\n",
        "      transition: color 0.3s;\n",
        "    }\n",
        "    nav ul li a:hover {\n",
        "      color: #ff9900;\n",
        "    }\n",
        "    .hero {\n",
        "      background: url('https://source.unsplash.com/1600x600/?restaurant,food') no-repeat center center/cover;\n",
        "      color: white;\n",
        "      text-align: center;\n",
        "      padding: 100px 20px;\n",
        "    }\n",
        "    .hero h1 {\n",
        "      font-size: 3em;\n",
        "      margin: 0;\n",
        "    }\n",
        "  </style>\n",
        "</head>\n",
        "<body>\n",
        "  <header>\n",
        "    <nav>\n",
        "      <ul>\n",
        "        <li><a href=\"index.html\">Home</a></li>\n",
        "        <li><a href=\"menu.html\">Menu</a></li>\n",
        "        <li><a href=\"offers.html\">Offers</a></li>\n",
        "        <li><a href=\"new.html\">New Arrivals</a></li>\n",
        "        <li><a href=\"contact.html\">Contact</a></li>\n",
        "      </ul>\n",
        "    </nav>\n",
        "  </header>\n",
        "  <main>\n",
        "    <section class=\"hero\">\n",
        "      <h1>Welcome to Our Restaurant</h1>\n",
        "    </section>\n",
        "  </main>\n",
        "  <script>\n",
        "    // Example JS for future interactivity\n",
        "    document.addEventListener('DOMContentLoaded', () => {\n",
        "      console.log(\"Restaurant Website Loaded\");\n",
        "    });\n",
        "  </script>\n",
        "</body>\n",
        "</html>"
      ]
    }
  ]
}